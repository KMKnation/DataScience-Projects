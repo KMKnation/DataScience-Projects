{
 "cells": [
  {
   "cell_type": "markdown",
   "metadata": {
    "dc": {
     "key": "4"
    },
    "deletable": false,
    "editable": false,
    "run_control": {
     "frozen": true
    },
    "tags": [
     "context"
    ]
   },
   "source": [
    "## 1. Google Play Store apps and reviews\n",
    "<p>Mobile apps are everywhere. They are easy to create and can be lucrative. Because of these two factors, more and more apps are being developed. In this notebook, we will do a comprehensive analysis of the Android app market by comparing over ten thousand apps in Google Play across different categories. We'll look for insights in the data to devise strategies to drive growth and retention.</p>\n",
    "<p><img src=\"https://assets.datacamp.com/production/project_619/img/google_play_store.png\" alt=\"Google Play logo\"></p>\n",
    "<p>Let's take a look at the data, which consists of two files:</p>\n",
    "<ul>\n",
    "<li><code>apps.csv</code>: contains all the details of the applications on Google Play. There are 13 features that describe a given app.</li>\n",
    "<li><code>user_reviews.csv</code>: contains 100 reviews for each app, <a href=\"https://www.androidpolice.com/2019/01/21/google-play-stores-redesigned-ratings-and-reviews-section-lets-you-easily-filter-by-star-rating/\">most helpful first</a>. The text in each review has been pre-processed and attributed with three new features: Sentiment (Positive, Negative or Neutral), Sentiment Polarity and Sentiment Subjectivity.</li>\n",
    "</ul>"
   ]
  },
  {
   "cell_type": "code",
   "execution_count": 5,
   "metadata": {
    "dc": {
     "key": "4"
    },
    "tags": [
     "sample_code"
    ]
   },
   "outputs": [
    {
     "name": "stdout",
     "output_type": "stream",
     "text": [
      "Total number of apps in the dataset =  9659\n",
      "      Unnamed: 0                                                App  \\\n",
      "0              0     Photo Editor & Candy Camera & Grid & ScrapBook   \n",
      "1              1                                Coloring book moana   \n",
      "2              2  U Launcher Lite – FREE Live Cool Themes, Hide ...   \n",
      "3              3                              Sketch - Draw & Paint   \n",
      "4              4              Pixel Draw - Number Art Coloring Book   \n",
      "...          ...                                                ...   \n",
      "9654       10836                                   Sya9a Maroc - FR   \n",
      "9655       10837                   Fr. Mike Schmitz Audio Teachings   \n",
      "9656       10838                             Parkinson Exercices FR   \n",
      "9657       10839                      The SCP Foundation DB fr nn5n   \n",
      "9658       10840      iHoroscope - 2018 Daily Horoscope & Astrology   \n",
      "\n",
      "                 Category  Rating  Reviews  Size     Installs  Type Price  \\\n",
      "0          ART_AND_DESIGN     4.1      159  19.0      10,000+  Free     0   \n",
      "1          ART_AND_DESIGN     3.9      967  14.0     500,000+  Free     0   \n",
      "2          ART_AND_DESIGN     4.7    87510   8.7   5,000,000+  Free     0   \n",
      "3          ART_AND_DESIGN     4.5   215644  25.0  50,000,000+  Free     0   \n",
      "4          ART_AND_DESIGN     4.3      967   2.8     100,000+  Free     0   \n",
      "...                   ...     ...      ...   ...          ...   ...   ...   \n",
      "9654               FAMILY     4.5       38  53.0       5,000+  Free     0   \n",
      "9655               FAMILY     5.0        4   3.6         100+  Free     0   \n",
      "9656              MEDICAL     NaN        3   9.5       1,000+  Free     0   \n",
      "9657  BOOKS_AND_REFERENCE     4.5      114   NaN       1,000+  Free     0   \n",
      "9658            LIFESTYLE     4.5   398307  19.0  10,000,000+  Free     0   \n",
      "\n",
      "     Content Rating                     Genres      Last Updated  \\\n",
      "0          Everyone               Art & Design   January 7, 2018   \n",
      "1          Everyone  Art & Design;Pretend Play  January 15, 2018   \n",
      "2          Everyone               Art & Design    August 1, 2018   \n",
      "3              Teen               Art & Design      June 8, 2018   \n",
      "4          Everyone    Art & Design;Creativity     June 20, 2018   \n",
      "...             ...                        ...               ...   \n",
      "9654       Everyone                  Education     July 25, 2017   \n",
      "9655       Everyone                  Education      July 6, 2018   \n",
      "9656       Everyone                    Medical  January 20, 2017   \n",
      "9657     Mature 17+          Books & Reference  January 19, 2015   \n",
      "9658       Everyone                  Lifestyle     July 25, 2018   \n",
      "\n",
      "             Current Ver         Android Ver  \n",
      "0                  1.0.0        4.0.3 and up  \n",
      "1                  2.0.0        4.0.3 and up  \n",
      "2                  1.2.4        4.0.3 and up  \n",
      "3     Varies with device          4.2 and up  \n",
      "4                    1.1          4.4 and up  \n",
      "...                  ...                 ...  \n",
      "9654                1.48          4.1 and up  \n",
      "9655                   1          4.1 and up  \n",
      "9656                   1          2.2 and up  \n",
      "9657  Varies with device  Varies with device  \n",
      "9658  Varies with device  Varies with device  \n",
      "\n",
      "[9659 rows x 14 columns]\n"
     ]
    },
    {
     "data": {
      "text/html": [
       "<div>\n",
       "<style scoped>\n",
       "    .dataframe tbody tr th:only-of-type {\n",
       "        vertical-align: middle;\n",
       "    }\n",
       "\n",
       "    .dataframe tbody tr th {\n",
       "        vertical-align: top;\n",
       "    }\n",
       "\n",
       "    .dataframe thead th {\n",
       "        text-align: right;\n",
       "    }\n",
       "</style>\n",
       "<table border=\"1\" class=\"dataframe\">\n",
       "  <thead>\n",
       "    <tr style=\"text-align: right;\">\n",
       "      <th></th>\n",
       "      <th>Unnamed: 0</th>\n",
       "      <th>App</th>\n",
       "      <th>Category</th>\n",
       "      <th>Rating</th>\n",
       "      <th>Reviews</th>\n",
       "      <th>Size</th>\n",
       "      <th>Installs</th>\n",
       "      <th>Type</th>\n",
       "      <th>Price</th>\n",
       "      <th>Content Rating</th>\n",
       "      <th>Genres</th>\n",
       "      <th>Last Updated</th>\n",
       "      <th>Current Ver</th>\n",
       "      <th>Android Ver</th>\n",
       "    </tr>\n",
       "  </thead>\n",
       "  <tbody>\n",
       "    <tr>\n",
       "      <th>2754</th>\n",
       "      <td>3488</td>\n",
       "      <td>My Airtel-Online Recharge, Pay Bill, Wallet, UPI</td>\n",
       "      <td>PRODUCTIVITY</td>\n",
       "      <td>4.3</td>\n",
       "      <td>1498393</td>\n",
       "      <td>14.0</td>\n",
       "      <td>50,000,000+</td>\n",
       "      <td>Free</td>\n",
       "      <td>0</td>\n",
       "      <td>Everyone</td>\n",
       "      <td>Productivity</td>\n",
       "      <td>August 2, 2018</td>\n",
       "      <td>4.3.2.0</td>\n",
       "      <td>4.2 and up</td>\n",
       "    </tr>\n",
       "    <tr>\n",
       "      <th>1509</th>\n",
       "      <td>1860</td>\n",
       "      <td>Love Nikki-Dress UP Queen</td>\n",
       "      <td>GAME</td>\n",
       "      <td>4.4</td>\n",
       "      <td>212524</td>\n",
       "      <td>93.0</td>\n",
       "      <td>5,000,000+</td>\n",
       "      <td>Free</td>\n",
       "      <td>0</td>\n",
       "      <td>Everyone</td>\n",
       "      <td>Role Playing</td>\n",
       "      <td>July 24, 2018</td>\n",
       "      <td>3.0.0</td>\n",
       "      <td>4.0.3 and up</td>\n",
       "    </tr>\n",
       "    <tr>\n",
       "      <th>926</th>\n",
       "      <td>1141</td>\n",
       "      <td>JStock - Stock Market, Portfolio &amp; News</td>\n",
       "      <td>FINANCE</td>\n",
       "      <td>4.6</td>\n",
       "      <td>11066</td>\n",
       "      <td>9.1</td>\n",
       "      <td>500,000+</td>\n",
       "      <td>Free</td>\n",
       "      <td>0</td>\n",
       "      <td>Everyone</td>\n",
       "      <td>Finance</td>\n",
       "      <td>July 18, 2018</td>\n",
       "      <td>1.1.39</td>\n",
       "      <td>4.0 and up</td>\n",
       "    </tr>\n",
       "    <tr>\n",
       "      <th>3420</th>\n",
       "      <td>4310</td>\n",
       "      <td>K-Spapp, the K-Space app</td>\n",
       "      <td>FAMILY</td>\n",
       "      <td>4.8</td>\n",
       "      <td>39</td>\n",
       "      <td>3.6</td>\n",
       "      <td>1,000+</td>\n",
       "      <td>Free</td>\n",
       "      <td>0</td>\n",
       "      <td>Everyone</td>\n",
       "      <td>Education</td>\n",
       "      <td>February 9, 2017</td>\n",
       "      <td>1.53</td>\n",
       "      <td>4.0.3 and up</td>\n",
       "    </tr>\n",
       "    <tr>\n",
       "      <th>1222</th>\n",
       "      <td>1500</td>\n",
       "      <td>Zumper - Apartment Rental Finder</td>\n",
       "      <td>HOUSE_AND_HOME</td>\n",
       "      <td>4.4</td>\n",
       "      <td>11200</td>\n",
       "      <td>25.0</td>\n",
       "      <td>1,000,000+</td>\n",
       "      <td>Free</td>\n",
       "      <td>0</td>\n",
       "      <td>Everyone</td>\n",
       "      <td>House &amp; Home</td>\n",
       "      <td>July 16, 2018</td>\n",
       "      <td>4.5.15</td>\n",
       "      <td>5.0 and up</td>\n",
       "    </tr>\n",
       "  </tbody>\n",
       "</table>\n",
       "</div>"
      ],
      "text/plain": [
       "      Unnamed: 0                                               App  \\\n",
       "2754        3488  My Airtel-Online Recharge, Pay Bill, Wallet, UPI   \n",
       "1509        1860                         Love Nikki-Dress UP Queen   \n",
       "926         1141           JStock - Stock Market, Portfolio & News   \n",
       "3420        4310                          K-Spapp, the K-Space app   \n",
       "1222        1500                  Zumper - Apartment Rental Finder   \n",
       "\n",
       "            Category  Rating  Reviews  Size     Installs  Type Price  \\\n",
       "2754    PRODUCTIVITY     4.3  1498393  14.0  50,000,000+  Free     0   \n",
       "1509            GAME     4.4   212524  93.0   5,000,000+  Free     0   \n",
       "926          FINANCE     4.6    11066   9.1     500,000+  Free     0   \n",
       "3420          FAMILY     4.8       39   3.6       1,000+  Free     0   \n",
       "1222  HOUSE_AND_HOME     4.4    11200  25.0   1,000,000+  Free     0   \n",
       "\n",
       "     Content Rating        Genres      Last Updated Current Ver   Android Ver  \n",
       "2754       Everyone  Productivity    August 2, 2018     4.3.2.0    4.2 and up  \n",
       "1509       Everyone  Role Playing     July 24, 2018       3.0.0  4.0.3 and up  \n",
       "926        Everyone       Finance     July 18, 2018      1.1.39    4.0 and up  \n",
       "3420       Everyone     Education  February 9, 2017        1.53  4.0.3 and up  \n",
       "1222       Everyone  House & Home     July 16, 2018      4.5.15    5.0 and up  "
      ]
     },
     "execution_count": 5,
     "metadata": {},
     "output_type": "execute_result"
    }
   ],
   "source": [
    "# Read in dataset\n",
    "import pandas as pd\n",
    "apps_with_duplicates = pd.read_csv('C:\\\\Users\\\\india\\\\Desktop\\\\gitTut\\\\DataScience-Projects\\\\The Android App Market on Google Play\\\\datasets\\\\apps.csv')\n",
    "# Drop duplicates\n",
    "apps = apps_with_duplicates.drop_duplicates()\n",
    "\n",
    "# Print the total number of apps\n",
    "a = apps['App'].count()\n",
    "print('Total number of apps in the dataset = ', a)\n",
    "\n",
    "# Print a concise summary of apps dataframe\n",
    "print(apps)\n",
    "\n",
    "# Have a look at a random sample of n rows\n",
    "n = 5\n",
    "apps.sample(n)"
   ]
  },
  {
   "cell_type": "markdown",
   "metadata": {
    "dc": {
     "key": "11"
    },
    "deletable": false,
    "editable": false,
    "run_control": {
     "frozen": true
    },
    "tags": [
     "context"
    ]
   },
   "source": [
    "## 2. Data cleaning\n",
    "<p>The four features that we will be working with most frequently henceforth are <code>Installs</code>, <code>Size</code>, <code>Rating</code> and <code>Price</code>. The <code>info()</code> function (from the previous task)  told us that <code>Installs</code> and <code>Price</code> columns are of type <code>object</code> and not <code>int64</code> or <code>float64</code> as we would expect. This is because the column contains some characters more than just [0,9] digits. Ideally, we would want these columns to be numeric as their name suggests. <br>\n",
    "Hence, we now proceed to data cleaning and prepare our data to be consumed in our analyis later. Specifically, the presence of special characters (<code>, $ +</code>) in the <code>Installs</code> and <code>Price</code> columns make their conversion to a numerical data type difficult.</p>"
   ]
  },
  {
   "cell_type": "code",
   "execution_count": 0,
   "metadata": {
    "collapsed": true,
    "dc": {
     "key": "11"
    },
    "tags": [
     "sample_code"
    ]
   },
   "outputs": [],
   "source": [
    "# List of characters to remove\n",
    "chars_to_remove = [...]\n",
    "# List of column names to clean\n",
    "cols_to_clean = [...]\n",
    "\n",
    "# Loop for each column\n",
    "for col in cols_to_clean:\n",
    "    # Replace each character with an empty string\n",
    "    for char in chars_to_remove:\n",
    "        apps[col] = apps[...].astype(str).str.replace(..., ...)\n",
    "    # Convert col to numeric\n",
    "    apps[col] = pd.to_numeric(...) "
   ]
  },
  {
   "cell_type": "markdown",
   "metadata": {
    "dc": {
     "key": "18"
    },
    "deletable": false,
    "editable": false,
    "run_control": {
     "frozen": true
    },
    "tags": [
     "context"
    ]
   },
   "source": [
    "## 3. Exploring app categories\n",
    "<p>With more than 1 billion active users in 190 countries around the world, Google Play continues to be an important distribution platform to build a global audience. For businesses to get their apps in front of users, it's important to make them more quickly and easily discoverable on Google Play. To improve the overall search experience, Google has introduced the concept of grouping apps into categories.</p>\n",
    "<p>This brings us to the following questions:</p>\n",
    "<ul>\n",
    "<li>Which category has the highest share of (active) apps in the market? </li>\n",
    "<li>Is any specific category dominating the market?</li>\n",
    "<li>Which categories have the fewest number of apps?</li>\n",
    "</ul>\n",
    "<p>We will see that there are <code>33</code> unique app categories present in our dataset. <em>Family</em> and <em>Game</em> apps have the highest market prevalence. Interestingly, <em>Tools</em>, <em>Business</em> and <em>Medical</em> apps are also at the top.</p>"
   ]
  },
  {
   "cell_type": "code",
   "execution_count": 0,
   "metadata": {
    "collapsed": true,
    "dc": {
     "key": "18"
    },
    "tags": [
     "sample_code"
    ]
   },
   "outputs": [],
   "source": [
    "import plotly\n",
    "plotly.offline.init_notebook_mode(connected=True)\n",
    "import plotly.graph_objs as go\n",
    "\n",
    "# Print the total number of unique categories\n",
    "num_categories = len(apps[...].unique())\n",
    "print('Number of categories = ', num_categories)\n",
    "\n",
    "# Count the number of apps in each 'Category' and sort them in descending order\n",
    "num_apps_in_category = apps[...].value_counts().sort_values(ascending = ...)\n",
    "\n",
    "data = [go.Bar(\n",
    "        x = num_apps_in_category.index, # index = category name\n",
    "        y = num_apps_in_category.values, # value = count\n",
    ")]\n",
    "\n",
    "plotly.offline.iplot(data)"
   ]
  },
  {
   "cell_type": "markdown",
   "metadata": {
    "dc": {
     "key": "25"
    },
    "deletable": false,
    "editable": false,
    "run_control": {
     "frozen": true
    },
    "tags": [
     "context"
    ]
   },
   "source": [
    "## 4. Distribution of app ratings\n",
    "<p>After having witnessed the market share for each category of apps, let's see how all these apps perform on an average. App ratings (on a scale of 1 to 5) impact the discoverability, conversion of apps as well as the company's overall brand image. Ratings are a key performance indicator of an app.</p>\n",
    "<p>From our research, we found that the average volume of ratings across all app categories is <code>4.17</code>. The histogram plot is skewed to the left indicating that the majority of the apps are highly rated with only a few exceptions in the low-rated apps.</p>"
   ]
  },
  {
   "cell_type": "code",
   "execution_count": 0,
   "metadata": {
    "collapsed": true,
    "dc": {
     "key": "25"
    },
    "tags": [
     "sample_code"
    ]
   },
   "outputs": [],
   "source": [
    "# Average rating of apps\n",
    "avg_app_rating = ...\n",
    "print('Average app rating = ', avg_app_rating)\n",
    "\n",
    "# Distribution of apps according to their ratings\n",
    "data = [go.Histogram(\n",
    "        x = apps['Rating']\n",
    ")]\n",
    "\n",
    "# Vertical dashed line to indicate the average app rating\n",
    "layout = {'shapes': [{\n",
    "              'type' :'line',\n",
    "              'x0': avg_app_rating,\n",
    "              'y0': 0,\n",
    "              'x1': avg_app_rating,\n",
    "              'y1': 1000,\n",
    "              'line': { 'dash': 'dashdot'}\n",
    "          }]\n",
    "          }\n",
    "\n",
    "plotly.offline.iplot({'data': data, 'layout': layout})"
   ]
  },
  {
   "cell_type": "markdown",
   "metadata": {
    "dc": {
     "key": "32"
    },
    "deletable": false,
    "editable": false,
    "run_control": {
     "frozen": true
    },
    "tags": [
     "context"
    ]
   },
   "source": [
    "## 5. Size and price of an app\n",
    "<p>Let's now examine app size and app price. For size, if the mobile app is too large, it may be difficult and/or expensive for users to download. Lengthy download times could turn users off before they even experience your mobile app. Plus, each user's device has a finite amount of disk space. For price, some users expect their apps to be free or inexpensive. These problems compound if the developing world is part of your target market; especially due to internet speeds, earning power and exchange rates.</p>\n",
    "<p>How can we effectively come up with strategies to size and price our app?</p>\n",
    "<ul>\n",
    "<li>Does the size of an app affect its rating? </li>\n",
    "<li>Do users really care about system-heavy apps or do they prefer light-weighted apps? </li>\n",
    "<li>Does the price of an app affect its rating? </li>\n",
    "<li>Do users always prefer free apps over paid apps?</li>\n",
    "</ul>\n",
    "<p>We find that the majority of top rated apps (rating over 4) range from 2 MB to 20 MB. We also find that the vast majority of apps price themselves under \\$10.</p>"
   ]
  },
  {
   "cell_type": "code",
   "execution_count": 0,
   "metadata": {
    "collapsed": true,
    "dc": {
     "key": "32"
    },
    "tags": [
     "sample_code"
    ]
   },
   "outputs": [],
   "source": [
    "%matplotlib inline\n",
    "import seaborn as sns\n",
    "sns.set_style(\"darkgrid\")\n",
    "import warnings\n",
    "warnings.filterwarnings(\"ignore\")\n",
    "\n",
    "# Filter rows where both Rating and Size values are not null\n",
    "apps_with_size_and_rating_present = apps[(~apps[...].isnull()) & (~apps[...].isnull())]\n",
    "\n",
    "# Subset for categories with at least 250 apps\n",
    "large_categories = apps_with_size_and_rating_present.groupby(...).filter(lambda x: len(x) >= ...).reset_index()\n",
    "\n",
    "# Plot size vs. rating\n",
    "plt1 = sns.jointplot(x = large_categories[...], y = large_categories[...], kind = 'hex')\n",
    "\n",
    "# Subset apps whose 'Type' is 'Paid'\n",
    "paid_apps = apps_with_size_and_rating_present[apps_with_size_and_rating_present[...] == ...]\n",
    "\n",
    "# Plot price vs. rating\n",
    "plt2 = sns.jointplot(x = paid_apps[...], y = paid_apps[...])"
   ]
  },
  {
   "cell_type": "markdown",
   "metadata": {
    "dc": {
     "key": "39"
    },
    "deletable": false,
    "editable": false,
    "run_control": {
     "frozen": true
    },
    "tags": [
     "context"
    ]
   },
   "source": [
    "## 6. Relation between app category and app price\n",
    "<p>So now comes the hard part. How are companies and developers supposed to make ends meet? What monetization strategies can companies use to maximize profit? The costs of apps are largely based on features, complexity, and platform.</p>\n",
    "<p>There are many factors to consider when selecting the right pricing strategy for your mobile app. It is important to consider the willingness of your customer to pay for your app. A wrong price could break the deal before the download even happens. Potential customers could be turned off by what they perceive to be a shocking cost, or they might delete an app they’ve downloaded after receiving too many ads or simply not getting their money's worth.</p>\n",
    "<p>Different categories demand different price ranges. Some apps that are simple and used daily, like the calculator app, should probably be kept free. However, it would make sense to charge for a highly-specialized medical app that diagnoses diabetic patients. Below, we see that <em>Medical and Family</em> apps are the most expensive. Some medical apps extend even up to \\$80! All game apps are reasonably priced below \\$20.</p>"
   ]
  },
  {
   "cell_type": "code",
   "execution_count": 0,
   "metadata": {
    "collapsed": true,
    "dc": {
     "key": "39"
    },
    "tags": [
     "sample_code"
    ]
   },
   "outputs": [],
   "source": [
    "import matplotlib.pyplot as plt\n",
    "fig, ax = plt.subplots()\n",
    "fig.set_size_inches(15, 8)\n",
    "\n",
    "# Select a few popular app categories\n",
    "popular_app_cats = apps[apps.Category.isin(['GAME', 'FAMILY', 'PHOTOGRAPHY',\n",
    "                                            'MEDICAL', 'TOOLS', 'FINANCE',\n",
    "                                            'LIFESTYLE','BUSINESS'])]\n",
    "\n",
    "# Examine the price trend by plotting Price vs Category\n",
    "ax = sns.stripplot(x = popular_app_cats[...], y = popular_app_cats[...], jitter=True, linewidth=1)\n",
    "ax.set_title('App pricing trend across categories')\n",
    "\n",
    "# Apps whose Price is greater than 200\n",
    "apps_above_200 = popular_app_cats[['Category', 'App', 'Price']][popular_app_cats[...] > 200]\n",
    "apps_above_200"
   ]
  },
  {
   "cell_type": "markdown",
   "metadata": {
    "dc": {
     "key": "46"
    },
    "deletable": false,
    "editable": false,
    "run_control": {
     "frozen": true
    },
    "tags": [
     "context"
    ]
   },
   "source": [
    "## 7. Filter out \"junk\" apps\n",
    "<p>It looks like a bunch of the really expensive apps are \"junk\" apps. That is, apps that don't really have a purpose. Some app developer may create an app called <em>I Am Rich Premium</em> or <em>most expensive app (H)</em> just for a joke or to test their app development skills. Some developers even do this with malicious intent and try to make money by hoping people accidentally click purchase on their app in the store.</p>\n",
    "<p>Let's filter out these junk apps and re-do our visualization.</p>"
   ]
  },
  {
   "cell_type": "code",
   "execution_count": 1,
   "metadata": {
    "dc": {
     "key": "46"
    },
    "tags": [
     "sample_code"
    ]
   },
   "outputs": [
    {
     "ename": "NameError",
     "evalue": "name 'plt' is not defined",
     "output_type": "error",
     "traceback": [
      "\u001b[1;31m---------------------------------------------------------------------------\u001b[0m",
      "\u001b[1;31mNameError\u001b[0m                                 Traceback (most recent call last)",
      "\u001b[1;32m<ipython-input-1-c5d2f613caa1>\u001b[0m in \u001b[0;36m<module>\u001b[1;34m\u001b[0m\n\u001b[0;32m      2\u001b[0m \u001b[0mapps_under_100\u001b[0m \u001b[1;33m=\u001b[0m \u001b[1;33m...\u001b[0m\u001b[1;33m\u001b[0m\u001b[1;33m\u001b[0m\u001b[0m\n\u001b[0;32m      3\u001b[0m \u001b[1;33m\u001b[0m\u001b[0m\n\u001b[1;32m----> 4\u001b[1;33m \u001b[0mfig\u001b[0m\u001b[1;33m,\u001b[0m \u001b[0max\u001b[0m \u001b[1;33m=\u001b[0m \u001b[0mplt\u001b[0m\u001b[1;33m.\u001b[0m\u001b[0msubplots\u001b[0m\u001b[1;33m(\u001b[0m\u001b[1;33m)\u001b[0m\u001b[1;33m\u001b[0m\u001b[1;33m\u001b[0m\u001b[0m\n\u001b[0m\u001b[0;32m      5\u001b[0m \u001b[0mfig\u001b[0m\u001b[1;33m.\u001b[0m\u001b[0mset_size_inches\u001b[0m\u001b[1;33m(\u001b[0m\u001b[1;36m15\u001b[0m\u001b[1;33m,\u001b[0m \u001b[1;36m8\u001b[0m\u001b[1;33m)\u001b[0m\u001b[1;33m\u001b[0m\u001b[1;33m\u001b[0m\u001b[0m\n\u001b[0;32m      6\u001b[0m \u001b[1;33m\u001b[0m\u001b[0m\n",
      "\u001b[1;31mNameError\u001b[0m: name 'plt' is not defined"
     ]
    }
   ],
   "source": [
    "# Select apps priced below $100\n",
    "apps_under_100 = ...\n",
    "\n",
    "fig, ax = plt.subplots()\n",
    "fig.set_size_inches(15, 8)\n",
    "\n",
    "# Examine price vs category with the authentic apps (apps_under_100)\n",
    "ax = sns.stripplot(x=..., y=..., data=...,\n",
    "                   jitter=True, linewidth=1)\n",
    "ax.set_title('App pricing trend across categories after filtering for junk apps')"
   ]
  },
  {
   "cell_type": "markdown",
   "metadata": {
    "dc": {
     "key": "53"
    },
    "deletable": false,
    "editable": false,
    "run_control": {
     "frozen": true
    },
    "tags": [
     "context"
    ]
   },
   "source": [
    "## 8. Popularity of paid apps vs free apps\n",
    "<p>For apps in the Play Store today, there are five types of pricing strategies: free, freemium, paid, paymium, and subscription. Let's focus on free and paid apps only. Some characteristics of free apps are:</p>\n",
    "<ul>\n",
    "<li>Free to download.</li>\n",
    "<li>Main source of income often comes from advertisements.</li>\n",
    "<li>Often created by companies that have other products and the app serves as an extension of those products.</li>\n",
    "<li>Can serve as a tool for customer retention, communication, and customer service.</li>\n",
    "</ul>\n",
    "<p>Some characteristics of paid apps are:</p>\n",
    "<ul>\n",
    "<li>Users are asked to pay once for the app to download and use it.</li>\n",
    "<li>The user can't really get a feel for the app before buying it.</li>\n",
    "</ul>\n",
    "<p>Are paid apps installed as much as free apps? It turns out that paid apps have a relatively lower number of installs than free apps, though the difference is not as stark as I would have expected!</p>"
   ]
  },
  {
   "cell_type": "code",
   "execution_count": 0,
   "metadata": {
    "collapsed": true,
    "dc": {
     "key": "53"
    },
    "tags": [
     "sample_code"
    ]
   },
   "outputs": [],
   "source": [
    "trace0 = go.Box(\n",
    "    # Data for paid apps\n",
    "    y=apps[apps['Type'] == ...]['Installs'],\n",
    "    name = 'Paid'\n",
    ")\n",
    "\n",
    "trace1 = go.Box(\n",
    "    # Data for free apps\n",
    "    y=apps[apps['Type'] == ...]['Installs'],\n",
    "    name = 'Free'\n",
    ")\n",
    "\n",
    "layout = go.Layout(\n",
    "    title = \"Number of downloads of paid apps vs. free apps\",\n",
    "    yaxis = dict(\n",
    "        type = 'log',\n",
    "        autorange = True\n",
    "    )\n",
    ")\n",
    "\n",
    "# Add trace0 and trace1 to a list for plotting\n",
    "data = ...\n",
    "plotly.offline.iplot({'data': data, 'layout': layout})"
   ]
  },
  {
   "cell_type": "markdown",
   "metadata": {
    "dc": {
     "key": "60"
    },
    "deletable": false,
    "editable": false,
    "run_control": {
     "frozen": true
    },
    "tags": [
     "context"
    ]
   },
   "source": [
    "## 9. Sentiment analysis of user reviews\n",
    "<p>Mining user review data to determine how people feel about your product, brand, or service can be done using a technique called sentiment analysis. User reviews for apps can be analyzed to identify if the mood is positive, negative or neutral about that app. For example, positive words in an app review might include words such as 'amazing', 'friendly', 'good', 'great', and 'love'. Negative words might be words like 'malware', 'hate', 'problem', 'refund', and 'incompetent'.</p>\n",
    "<p>By plotting sentiment polarity scores of user reviews for paid and free apps, we observe that free apps receive a lot of harsh comments, as indicated by the outliers on the negative y-axis. Reviews for paid apps appear never to be extremely negative. This may indicate something about app quality, i.e., paid apps being of higher quality than free apps on average. The median polarity score for paid apps is a little higher than free apps, thereby syncing with our previous observation.</p>\n",
    "<p>In this notebook, we analyzed over ten thousand apps from the Google Play Store. We can use our findings to inform our decisions should we ever wish to create an app ourselves.</p>"
   ]
  },
  {
   "cell_type": "code",
   "execution_count": 0,
   "metadata": {
    "collapsed": true,
    "dc": {
     "key": "60"
    },
    "tags": [
     "sample_code"
    ]
   },
   "outputs": [],
   "source": [
    "# Load user_reviews.csv\n",
    "reviews_df = ...\n",
    "\n",
    "# Join and merge the two dataframe\n",
    "merged_df = pd.merge(..., ..., on = ..., how = \"inner\")\n",
    "\n",
    "# Drop NA values from Sentiment and Translated_Review columns\n",
    "merged_df = merged_df.dropna(subset=['Sentiment', 'Translated_Review'])\n",
    "\n",
    "sns.set_style('ticks')\n",
    "fig, ax = plt.subplots()\n",
    "fig.set_size_inches(11, 8)\n",
    "\n",
    "# User review sentiment polarity for paid vs. free apps\n",
    "ax = sns.boxplot(x = ..., y = ..., data = ...)\n",
    "ax.set_title('Sentiment Polarity Distribution')"
   ]
  }
 ],
 "metadata": {
  "kernelspec": {
   "display_name": "Python 3",
   "language": "python",
   "name": "python3"
  },
  "language_info": {
   "codemirror_mode": {
    "name": "ipython",
    "version": 3
   },
   "file_extension": ".py",
   "mimetype": "text/x-python",
   "name": "python",
   "nbconvert_exporter": "python",
   "pygments_lexer": "ipython3",
   "version": "3.8.5"
  }
 },
 "nbformat": 4,
 "nbformat_minor": 2
}
